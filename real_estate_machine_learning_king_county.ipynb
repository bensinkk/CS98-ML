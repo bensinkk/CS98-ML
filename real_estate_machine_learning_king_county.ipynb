{
 "cells": [
  {
   "cell_type": "code",
   "execution_count": null,
   "metadata": {},
   "outputs": [],
   "source": [
    "import pandas as pd\n",
    "import sys\n",
    "import numpy\n",
    "import datetime as dt\n",
    "\n",
    "housing = pd.read_csv('kc_house_data.csv')\n",
    "\n",
    "#Step 1: Data Clean, the data from this file is already very clean and we don't need to do anything\n",
    "\n",
    "print(housing.columns)\n",
    "\n",
    "# just do bedrooms, bathrooms, sqft_living, sqft_lot, floors, zipcode, waterfront, yr_built, view\n",
    "numeric_data = housing\n"
   ]
  },
  {
   "cell_type": "code",
   "execution_count": null,
   "metadata": {},
   "outputs": [],
   "source": [
    "#define the y data that we're looking to solve for\n",
    "price = numeric_data[['price']]\n",
    "\n",
    "#define the columns that correspond with uploaded data. These will be multiplied by weights.\n",
    "numeric_data = numeric_data[['bedrooms', 'bathrooms', 'sqft_living', \n",
    "                             'sqft_lot', 'floors', 'waterfront', 'yr_built', 'view']]"
   ]
  },
  {
   "cell_type": "code",
   "execution_count": null,
   "metadata": {},
   "outputs": [],
   "source": [
    "from sklearn.linear_model import ElasticNet\n",
    "\n",
    "#Splitting the data into Train and Test\n",
    "from sklearn.model_selection import train_test_split \n",
    "xtrain, xtest, ytrain, ytest = train_test_split(numeric_data,price,test_size=1/3, random_state=0)"
   ]
  },
  {
   "cell_type": "code",
   "execution_count": 4,
   "metadata": {},
   "outputs": [
    {
     "name": "stdout",
     "output_type": "stream",
     "text": [
      "0.5972965712124445\n"
     ]
    }
   ],
   "source": [
    "#use Elastic net, both lasso and ridge methods to maximize accuracy although still slightly less efficient than linear regression\n",
    "\n",
    "import datetime as dt\n",
    "before = dt.datetime.now()\n",
    "reg = ElasticNet(alpha=.2, l1_ratio = 1).fit(xtrain, ytrain)\n",
    "after = dt.datetime.now()\n",
    "score = reg.score(xtest,ytest)\n",
    "\n",
    "print(score)\n",
    "#print(after-before)"
   ]
  },
  {
   "cell_type": "code",
   "execution_count": 5,
   "metadata": {},
   "outputs": [],
   "source": [
    "#kept linear regression model because twice as fast but less accurate\n",
    "\n",
    "#from sklearn.linear_model import LinearRegression\n",
    "#before = dt.datetime.now()\n",
    "#reg = LinearRegression().fit(xtrain, ytrain)\n",
    "#after = dt.datetime.now()\n",
    "#score = reg.score(xtest,ytest)\n",
    "\n",
    "#print(score)\n",
    "#print(after-before)"
   ]
  },
  {
   "cell_type": "code",
   "execution_count": 8,
   "metadata": {},
   "outputs": [
    {
     "name": "stdout",
     "output_type": "stream",
     "text": [
      "ElasticNet(alpha=0.2, l1_ratio=1)\n"
     ]
    }
   ],
   "source": [
    "test_result = reg.predict(xtest)\n",
    "weights = reg\n",
    "print(weights)"
   ]
  },
  {
   "cell_type": "code",
   "execution_count": 10,
   "metadata": {},
   "outputs": [],
   "source": [
    "import pickle\n",
    "\n",
    "#pickle results into binary file that will be loaded into backend.\n",
    "filename = \"lin_reg_pickle\"\n",
    "output = open(filename, 'wb')\n",
    "pickle.dump(weights, output)\n",
    "output.close()"
   ]
  },
  {
   "cell_type": "code",
   "execution_count": null,
   "metadata": {},
   "outputs": [],
   "source": []
  }
 ],
 "metadata": {
  "kernelspec": {
   "display_name": "Python 3",
   "language": "python",
   "name": "python3"
  },
  "language_info": {
   "codemirror_mode": {
    "name": "ipython",
    "version": 3
   },
   "file_extension": ".py",
   "mimetype": "text/x-python",
   "name": "python",
   "nbconvert_exporter": "python",
   "pygments_lexer": "ipython3",
   "version": "3.7.6"
  }
 },
 "nbformat": 4,
 "nbformat_minor": 2
}
